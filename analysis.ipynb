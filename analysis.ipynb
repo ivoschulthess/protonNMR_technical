{
 "cells": [
  {
   "cell_type": "markdown",
   "id": "89626701-2684-4a4d-b6ca-be46f7d96435",
   "metadata": {},
   "source": [
    "# Proton NMR - Technical"
   ]
  },
  {
   "cell_type": "markdown",
   "id": "359196ff-505d-452e-9653-72523f258be3",
   "metadata": {},
   "source": [
    "## Imports and Definitions"
   ]
  },
  {
   "cell_type": "code",
   "execution_count": 1,
   "id": "a4e4ae44-bde3-43dd-9ce6-c17e777093b3",
   "metadata": {},
   "outputs": [],
   "source": [
    "import numpy as np\n",
    "import matplotlib.pyplot as plt"
   ]
  },
  {
   "cell_type": "code",
   "execution_count": null,
   "id": "290d09ac-3690-40ec-8979-e35ba593f669",
   "metadata": {},
   "outputs": [],
   "source": []
  }
 ],
 "metadata": {
  "kernelspec": {
   "display_name": "Python 3.9",
   "language": "python",
   "name": "python39"
  },
  "language_info": {
   "codemirror_mode": {
    "name": "ipython",
    "version": 3
   },
   "file_extension": ".py",
   "mimetype": "text/x-python",
   "name": "python",
   "nbconvert_exporter": "python",
   "pygments_lexer": "ipython3",
   "version": "3.9.13"
  }
 },
 "nbformat": 4,
 "nbformat_minor": 5
}
